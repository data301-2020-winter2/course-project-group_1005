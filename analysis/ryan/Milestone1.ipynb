{
 "cells": [
  {
   "cell_type": "code",
   "execution_count": null,
   "metadata": {},
   "outputs": [],
   "source": [
    "import pandas as pd\n",
    "\n",
    "RainbowSixSiege = pd.read_csv(r'C:\\Users\\ryanp\\DATA301 Group Project\\course-project-group_1005\\data\\data_raw\\(Action) 359550_TomClancysRainbowSixSiege.csv')\n",
    "print(RainbowSixSiege)\n",
    "\n",
    "Destiny2 = pd.read_csv(r'C:\\Users\\ryanp\\DATA301 Group Project\\course-project-group_1005\\data\\data_raw\\(Action) 1085660_Destiny2.csv')\n",
    "print(Destiny2)\n",
    "\n",
    "RedDeadRedemption2 = pd.read_csv(r'C:\\Users\\ryanp\\DATA301 Group Project\\course-project-group_1005\\data\\data_raw\\(Action) 1174180_RedDeadRedemption2.csv')\n",
    "print(RedDeadRedemption2)\n",
    "\n",
    "Rust = pd.read_csv(r'C:\\Users\\ryanp\\DATA301 Group Project\\course-project-group_1005\\data\\data_raw\\(Adventure) 252490_Rust.csv')\n",
    "print(Rust)\n",
    "\n",
    "ARKSurvivalEvolved = pd.read_csv(r'C:\\Users\\ryanp\\DATA301 Group Project\\course-project-group_1005\\data\\data_raw\\(Adventure) 346110_ARKSurvivalEvolved.csv')\n",
    "print(ARKSurvivalEvolved)\n",
    "\n",
    "SeaOfThieves = pd.read_csv(r'C:\\Users\\ryanp\\DATA301 Group Project\\course-project-group_1005\\data\\data_raw\\(Adventure) 1172620_SeaofThieves.csv')\n",
    "print(SeaOfThieves)\n",
    "\n",
    "StardewValley = pd.read_csv(r'C:\\Users\\ryanp\\DATA301 Group Project\\course-project-group_1005\\data\\data_raw\\(Indie) 413150_StardewValley.csv')\n",
    "print(StardewValley)\n",
    "\n",
    "BeatSaber = pd.read_csv(r'C:\\Users\\ryanp\\DATA301 Group Project\\course-project-group_1005\\data\\data_raw\\(Indie) 620980_BeatSaber.csv')\n",
    "print(BeatSaber)\n",
    "\n",
    "Plasmophobia = pd.read_csv(r'C:\\Users\\ryanp\\DATA301 Group Project\\course-project-group_1005\\data\\data_raw\\(Indie) 739630_Phasmophobia.csv')\n",
    "print(Plasmophobia)\n",
    "\n",
    "AssettoCorsa = pd.read_csv(r'C:\\Users\\ryanp\\DATA301 Group Project\\course-project-group_1005\\data\\data_raw\\(Racing) 244210_AssettoCorsa.csv')\n",
    "print(AssettoCorsa)\n",
    "\n",
    "AssettoCorsaCompetizione = pd.read_csv(r'C:\\Users\\ryanp\\DATA301 Group Project\\course-project-group_1005\\data\\data_raw\\(Racing) 805550_AssettoCorsaCompetizione.csv')\n",
    "print(AssettoCorsaCompetizione)\n",
    "\n",
    "F12020 = pd.read_csv(r'C:\\Users\\ryanp\\DATA301 Group Project\\course-project-group_1005\\data\\data_raw\\(Racing) 1080110_F12020.csv')\n",
    "print(F12020)\n",
    "\n",
    "FinalFantasyXIV = pd.read_csv(r'C:\\Users\\ryanp\\DATA301 Group Project\\course-project-group_1005\\data\\data_raw\\(RPG) 39210_FINALFANTASYXIVOnline.csv')\n",
    "print(FinalFantasyXIV)\n",
    "\n",
    "ESO = pd.read_csv(r'C:\\Users\\ryanp\\DATA301 Group Project\\course-project-group_1005\\data\\data_raw\\(RPG) 306130_TheElderScrollsOnline.csv')\n",
    "print(ESO)\n",
    "\n",
    "Borderlands3 = pd.read_csv(r'C:\\Users\\ryanp\\DATA301 Group Project\\course-project-group_1005\\data\\data_raw\\(RPG) 397540_Borderlands3.csv')\n",
    "print(Borderlands3)"
   ]
  }
 ],
 "metadata": {
  "kernelspec": {
   "display_name": "Python 3",
   "language": "python",
   "name": "python3"
  },
  "language_info": {
   "codemirror_mode": {
    "name": "ipython",
    "version": 3
   },
   "file_extension": ".py",
   "mimetype": "text/x-python",
   "name": "python",
   "nbconvert_exporter": "python",
   "pygments_lexer": "ipython3",
   "version": "3.8.5"
  }
 },
 "nbformat": 4,
 "nbformat_minor": 4
}
