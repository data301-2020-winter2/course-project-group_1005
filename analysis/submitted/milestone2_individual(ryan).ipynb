{
 "cells": [
  {
   "cell_type": "markdown",
   "metadata": {},
   "source": [
    "# Milestone 2 (Ryan)\n",
    "\n",
    "***\n",
    "\n"
   ]
  },
  {
   "cell_type": "markdown",
   "metadata": {},
   "source": [
    "## Task 1 - Introduction to Markdown"
   ]
  },
  {
   "cell_type": "markdown",
   "metadata": {},
   "source": [
    "## Here is my Multi-level Header!\n",
    "\n",
    "**Here is my bold text!** \n",
    "\n",
    "*Here is my italic text!*\n",
    "\n",
    "- Here is my unordered list\n",
    "* Here is my unordered list\n",
    "+ Here is my unordered list\n",
    "\n",
    "1. Here is my ordered list\n",
    "\n",
    "Here is my image!\n",
    "![image.png](attachment:9c064f77-8831-4354-9238-00e9a339dad3.png)\n",
    "\n",
    "> Here is my quoted text!\n",
    "\n",
    "Here is my link\n",
    "https://www.ubc.ca/\n"
   ]
  },
  {
   "cell_type": "markdown",
   "metadata": {},
   "source": [
    "## Task 2 - Introduction to Git merges, branches and more\n",
    "\n",
    "Completed in previous lab"
   ]
  },
  {
   "cell_type": "markdown",
   "metadata": {},
   "source": [
    "## Task 3 - Method Chaining & Python Programs"
   ]
  },
  {
   "cell_type": "code",
   "execution_count": null,
   "metadata": {},
   "outputs": [],
   "source": [
    "import os\n",
    "import sys\n",
    "module_path = os.path.abspath(os.path.join('..'))\n",
    "if module_path not in sys.path:\n",
    "    sys.path.append(module_path)\n",
    "from scripts import project_functions\n",
    "\n",
    "df = project_functions.load_and_process('..\\..\\data\\data_raw\\*.csv')"
   ]
  },
  {
   "cell_type": "markdown",
   "metadata": {},
   "source": [
    "## Task 4 - Conduct an EDA on your Dataset"
   ]
  },
  {
   "cell_type": "code",
   "execution_count": null,
   "metadata": {},
   "outputs": [],
   "source": [
    "import seaborn as sns\n",
    "import pandas as pd\n",
    "import numpy as np\n",
    "import matplotlib\n",
    "import matplotlib.pyplot as plt\n",
    "import missingno\n",
    "import warnings\n",
    "from scripts import project_functions\n",
    "\n",
    "data1 = project_functions.load_and_process('..\\..\\data\\data_raw\\*.csv')\n",
    "data1\n",
    "df = pd.DataFrame(data = data1)\n",
    "df"
   ]
  },
  {
   "cell_type": "code",
   "execution_count": null,
   "metadata": {},
   "outputs": [],
   "source": [
    "## This function displays the size of the dataset in the form (# of rows, # of columns)\n",
    "print(df.shape)\n",
    "\n",
    "## This function displays the names of each individual column\n",
    "print(df.columns)"
   ]
  },
  {
   "cell_type": "code",
   "execution_count": null,
   "metadata": {},
   "outputs": [],
   "source": [
    "## This function displays the number of unique results for each column\n",
    "df.nunique(axis=0)"
   ]
  },
  {
   "cell_type": "code",
   "execution_count": null,
   "metadata": {},
   "outputs": [],
   "source": [
    "## This function provides a quick summary of the data, including count, mean, standard deviation, min and max for each variable.\n",
    "df.describe(datetime_is_numeric=True)"
   ]
  },
  {
   "cell_type": "code",
   "execution_count": null,
   "metadata": {},
   "outputs": [],
   "source": [
    "## This function organizes the dataset in a manner to only include quantitative information\n",
    "df_quantitative = df.copy().drop(['language', 'review', 'recommended', 'received_for_free', 'written_during_early_access', 'game_id'], axis=1).astype(float)\n",
    "df_quantitative"
   ]
  },
  {
   "cell_type": "code",
   "execution_count": null,
   "metadata": {},
   "outputs": [],
   "source": [
    "## The function organizes the dataset in a manner to only include qualitative information\n",
    "df_qualitative = df.copy().drop(['timestamp_created', 'timestamp_updated', 'votes_up', 'votes_funny', 'steam_algorithm_score', 'comment_count', 'num_games_owned', 'num_reviews', 'playtime_forever', 'playtime_last_two_weeks', 'playtime_at_review', 'last_played'], axis=1)\n",
    "df_qualitative"
   ]
  },
  {
   "cell_type": "code",
   "execution_count": null,
   "metadata": {},
   "outputs": [],
   "source": [
    "## This functions provides some basic information about the quantitative data\n",
    "df_quantitative.describe(datetime_is_numeric=True)"
   ]
  },
  {
   "cell_type": "code",
   "execution_count": null,
   "metadata": {},
   "outputs": [],
   "source": [
    "## This function creates a scatterplot of two variables, in this case 'num_games_owned' & 'num_reviews'\n",
    "plot = df_quantitative.plot(kind='scatter', x='num_games_owned', y='num_reviews')\n",
    "plot"
   ]
  },
  {
   "cell_type": "code",
   "execution_count": null,
   "metadata": {},
   "outputs": [],
   "source": [
    "## This function creates a histogram for the data, in this case 'num_games_owned' is used\n",
    "df['num_games_owned'].astype(float).plot(kind='hist', bins=1500, figsize=(12,6), facecolor='grey', edgecolor='black').set_xlim([0,1500])"
   ]
  },
  {
   "cell_type": "code",
   "execution_count": null,
   "metadata": {},
   "outputs": [],
   "source": [
    "## This function provides a boxplot of the information, in this case\n",
    "df_quantitative.boxplot('num_games_owned')"
   ]
  },
  {
   "cell_type": "code",
   "execution_count": null,
   "metadata": {},
   "outputs": [],
   "source": [
    "## This function provides a heatmap of the correlation between each variable\n",
    "## A positive correlation coefficient means that as one increase the other increases as well\n",
    "## A negative correlation coefficient means that as one increases the other will decrease\n",
    "## A correlation coefficient of zero implies that there is no relationship between the variables\n",
    "corr = df_quantitative.corr()\n",
    "sns.heatmap(corr, xticklabels=corr.columns, yticklabels=corr.columns, annot=True, cmap=sns.diverging_palette(220, 20, as_cmap=True))"
   ]
  },
  {
   "cell_type": "code",
   "execution_count": null,
   "metadata": {},
   "outputs": [],
   "source": [
    "## These functions changed the form of time from epoch to standard date and 24 hour clock\n",
    "df['timestamp_created'] = pd.to_datetime(df['timestamp_created'], unit='s')\n",
    "df['timestamp_updated'] = pd.to_datetime(df['timestamp_updated'], unit='s')\n",
    "df['last_played'] = pd.to_datetime(df['last_played'], unit='s')"
   ]
  },
  {
   "cell_type": "code",
   "execution_count": null,
   "metadata": {},
   "outputs": [],
   "source": [
    "## Please note the following code was originally found at \"https://gist.github.com/jiahao87/c97214065f996b76ab8fe4ca1964b2b5\"\n",
    "\n",
    "\n",
    "import pandas as pd\n",
    "import numpy as np\n",
    "import matplotlib\n",
    "import matplotlib.pyplot as plt\n",
    "import seaborn as sns\n",
    "import missingno\n",
    "import warnings\n",
    "warnings.filterwarnings(\"ignore\")\n",
    "%matplotlib inline\n",
    "\n",
    "        \n",
    "def time_series_plot(df):\n",
    "    \"\"\"Given dataframe, generate times series plot of numeric data by daily, monthly and yearly frequency\"\"\"\n",
    "    print(\"\\nTo check time series of numeric data  by daily, monthly and yearly frequency\")\n",
    "    if len(df.select_dtypes(include='datetime64').columns)>0:\n",
    "        for col in df.select_dtypes(include='datetime64').columns:\n",
    "            for p in ['D', 'M', 'Y']:\n",
    "                if p=='D':\n",
    "                    print(\"Plotting daily data\")\n",
    "                elif p=='M':\n",
    "                    print(\"Plotting monthly data\")\n",
    "                else:\n",
    "                    print(\"Plotting yearly data\")\n",
    "                for col_num in df.select_dtypes(include=np.number).columns:\n",
    "                    __ = df.copy()\n",
    "                    __ = __.set_index(col)\n",
    "                    __T = __.resample(p).sum()\n",
    "                    ax = __T[[col_num]].plot()\n",
    "                    ax.set_ylim(bottom=0)\n",
    "                    ax.get_yaxis().set_major_formatter(\n",
    "                    matplotlib.ticker.FuncFormatter(lambda x, p: format(int(x), ',')))\n",
    "                    plt.show()\n",
    "\n",
    "                    \n",
    "def numeric_eda(df, hue=None):\n",
    "    \"\"\"Given dataframe, generate EDA of numeric data\"\"\"\n",
    "    print(\"\\nTo check: \\nDistribution of numeric data\")\n",
    "    display(df.describe().T)\n",
    "    columns = df.select_dtypes(include=np.number).columns\n",
    "    figure = plt.figure(figsize=(20, 10))\n",
    "    figure.add_subplot(1, len(columns), 1)\n",
    "    for index, col in enumerate(columns):\n",
    "        if index > 0:\n",
    "            figure.add_subplot(1, len(columns), index + 1)\n",
    "        sns.boxplot(y=col, data=df, boxprops={'facecolor': 'None'})\n",
    "    figure.tight_layout()\n",
    "    plt.show()\n",
    "    \n",
    "    if len(df.select_dtypes(include='category').columns) > 0:\n",
    "        for col_num in df.select_dtypes(include=np.number).columns:\n",
    "            for col in df.select_dtypes(include='category').columns:\n",
    "                fig = sns.catplot(x=col, y=col_num, kind='violin', data=df, height=5, aspect=2)\n",
    "                fig.set_xticklabels(rotation=90)\n",
    "                plt.show()\n",
    "    \n",
    "    # Plot the pairwise joint distributions\n",
    "    print(\"\\nTo check pairwise joint distribution of numeric data\")\n",
    "    if hue==None:\n",
    "        sns.pairplot(df.select_dtypes(include=np.number))\n",
    "    else:\n",
    "        sns.pairplot(df.select_dtypes(include=np.number).join(df[[hue]]), hue=hue)\n",
    "    plt.show()\n",
    "\n",
    "\n",
    "def top5(df):\n",
    "    \"\"\"Given dataframe, generate top 5 unique values for non-numeric data\"\"\"\n",
    "    columns = df.select_dtypes(include=['object', 'category']).columns\n",
    "    for col in columns:\n",
    "        print(\"Top 5 unique values of \" + col)\n",
    "        print(df[col].value_counts().reset_index().rename(columns={\"index\": col, col: \"Count\"})[\n",
    "              :min(5, len(df[col].value_counts()))])\n",
    "        print(\" \")\n",
    "    \n",
    "    \n",
    "def categorical_eda(df, hue=None):\n",
    "    \"\"\"Given dataframe, generate EDA of categorical data\"\"\"\n",
    "    print(\"\\nTo check: \\nUnique count of non-numeric data\\n\")\n",
    "    print(df.select_dtypes(include=['object', 'category']).nunique())\n",
    "    top5(df)\n",
    "    # Plot count distribution of categorical data\n",
    "    for col in df.select_dtypes(include='category').columns:\n",
    "        fig = sns.catplot(x=col, kind=\"count\", data=df, hue=hue)\n",
    "        fig.set_xticklabels(rotation=90)\n",
    "        plt.show()\n",
    "    \n",
    "\n",
    "def eda(df):\n",
    "    \"\"\"Given dataframe, generate exploratory data analysis\"\"\"\n",
    "    # check that input is pandas dataframe\n",
    "    if type(df) != pd.core.frame.DataFrame:\n",
    "        raise TypeError(\"Only pandas dataframe is allowed as input\")\n",
    "        \n",
    "    # replace field that's entirely space (or empty) with NaN\n",
    "    df = df.replace(r'^\\s*$', np.nan, regex=True)\n",
    "\n",
    "    print(\"Preview of data:\")\n",
    "    display(df.head(3))\n",
    "\n",
    "    print(\"\\nTo check: \\n (1) Total number of entries \\n (2) Column types \\n (3) Any null values\\n\")\n",
    "    print(df.info())\n",
    "\n",
    "    # generate preview of entries with null values\n",
    "    if df.isnull().any(axis=None):\n",
    "        print(\"\\nPreview of data with null values:\")\n",
    "        display(df[df.isnull().any(axis=1)].head(3))\n",
    "        missingno.matrix(df)\n",
    "        plt.show()\n",
    "\n",
    "    # generate count statistics of duplicate entries\n",
    "    if len(df[df.duplicated()]) > 0:\n",
    "        print(\"\\n***Number of duplicated entries: \", len(df[df.duplicated()]))\n",
    "        display(df[df.duplicated(keep=False)].sort_values(by=list(df.columns)).head())\n",
    "    else:\n",
    "        print(\"\\nNo duplicated entries found\")\n",
    "\n",
    "    # EDA of categorical data\n",
    "    categorical_eda(df)\n",
    "    \n",
    "    # EDA of numeric data\n",
    "    numeric_eda(df)\n",
    "        \n",
    "    # Plot time series plot of numeric data\n",
    "    time_series_plot(df)\n",
    "\n"
   ]
  },
  {
   "cell_type": "code",
   "execution_count": null,
   "metadata": {},
   "outputs": [],
   "source": [
    "## Provides information on the categorical data\n",
    "categorical_eda(df)"
   ]
  },
  {
   "cell_type": "code",
   "execution_count": null,
   "metadata": {},
   "outputs": [],
   "source": [
    "## This function shows the count of the top 5 most common results for each variable\n",
    "top5(df)"
   ]
  },
  {
   "cell_type": "code",
   "execution_count": null,
   "metadata": {},
   "outputs": [],
   "source": [
    "hist = df_quantitative.hist(bins=100, figsize=(20,10))\n",
    "hist"
   ]
  },
  {
   "cell_type": "code",
   "execution_count": null,
   "metadata": {},
   "outputs": [],
   "source": [
    "sns.countplot(data = df,  x='num_games_owned')"
   ]
  },
  {
   "cell_type": "code",
   "execution_count": null,
   "metadata": {},
   "outputs": [],
   "source": [
    "sns.pairplot(df_quantitative)"
   ]
  },
  {
   "cell_type": "markdown",
   "metadata": {},
   "source": [
    "## Task 5 - Conduct your Analysis to help answer your research questions"
   ]
  },
  {
   "cell_type": "markdown",
   "metadata": {},
   "source": [
    "### Is there any correlation between receiving a game for free and the positivity of review?\n",
    "\n",
    "The following code explores the dataset by comparing paid users vs. free users. Paid users are defined as users who did not receive the game for free. Free users are defined as users who did receive the game for free. \n",
    "\n",
    "The following relationships are explored:\n",
    "- Average Votes Up\n",
    "- Average Steam Algorithm Score\n",
    "- Average Votes Funny\n",
    "- Average Review Length\n",
    "- Average Playtime at Time of Review\n",
    "- Average Total Playtime\n",
    "- Average Playtime for the Last Two Weeks"
   ]
  },
  {
   "cell_type": "markdown",
   "metadata": {},
   "source": [
    "The code below imports all the functions necessary for this analysis. The final line of code is used to remove an outlier in the votes_funny column which contained over 4 billion votes. "
   ]
  },
  {
   "cell_type": "code",
   "execution_count": null,
   "metadata": {},
   "outputs": [],
   "source": [
    "import seaborn as sns\n",
    "import pandas as pd\n",
    "import numpy as np\n",
    "import matplotlib\n",
    "import matplotlib.pyplot as plt\n",
    "import missingno\n",
    "import warnings\n",
    "from scripts1 import project_functions\n",
    "\n",
    "data1 = project_functions.load_and_process('..\\..\\data\\data_raw\\*.csv')\n",
    "data1\n",
    "df = pd.DataFrame(data = data1)\n",
    "\n",
    "df = df[df['votes_funny'] <= '40000000'] "
   ]
  },
  {
   "cell_type": "markdown",
   "metadata": {},
   "source": [
    "The following code is used to group the dataset into two categories, paid users and free users. "
   ]
  },
  {
   "cell_type": "code",
   "execution_count": null,
   "metadata": {},
   "outputs": [],
   "source": [
    "free_users = df[df.received_for_free == \"True\"]\n",
    "paid_users = df[df.received_for_free == \"False\"]\n"
   ]
  },
  {
   "cell_type": "markdown",
   "metadata": {},
   "source": [
    "The following code is used to create variables for the free user data points as well as assign them values."
   ]
  },
  {
   "cell_type": "code",
   "execution_count": null,
   "metadata": {},
   "outputs": [],
   "source": [
    "free_users_average_votes_up = free_users['votes_up'].astype(float).mean()\n",
    "free_users_average_steam_algorithm_score = free_users['steam_algorithm_score'].astype(float).mean()\n",
    "free_users_average_votes_funny = free_users['votes_funny'].astype(float).mean()\n",
    "free_users_review_length = free_users['review'].str.len().mean()\n",
    "free_users_average_playtime_at_review = free_users['playtime_at_review'].astype(float).mean()\n",
    "free_users_average_playtime_forever = free_users['playtime_forever'].astype(float).mean()\n",
    "free_users_average_playtime_last_two_weeks = free_users['playtime_last_two_weeks'].astype(float).mean()"
   ]
  },
  {
   "cell_type": "markdown",
   "metadata": {},
   "source": [
    "The following code is used to create variables for the paid user data points as well as assign them values."
   ]
  },
  {
   "cell_type": "code",
   "execution_count": null,
   "metadata": {},
   "outputs": [],
   "source": [
    "paid_users_average_votes_up = paid_users['votes_up'].astype(float).mean()\n",
    "paid_users_average_steam_algorithm_score = paid_users['steam_algorithm_score'].astype(float).mean()\n",
    "paid_users_average_votes_funny = paid_users['votes_funny'].astype(float).mean()\n",
    "paid_users_review_length = paid_users['review'].str.len().mean()\n",
    "paid_users_average_playtime_at_review = paid_users['playtime_at_review'].astype(float).mean()\n",
    "paid_users_average_playtime_forever = paid_users['playtime_forever'].astype(float).mean()\n",
    "paid_users_average_playtime_last_two_weeks = paid_users['playtime_last_two_weeks'].astype(float).mean()"
   ]
  },
  {
   "cell_type": "markdown",
   "metadata": {},
   "source": [
    "The following code is used to generate a bar graph comparing the **average votes up** for free users and paid users.\n",
    "\n",
    "*Based on the results of the bar graph, we can see that reviews left by paid users have higher number of votes up on average than free users.*"
   ]
  },
  {
   "cell_type": "code",
   "execution_count": null,
   "metadata": {},
   "outputs": [],
   "source": [
    "fig = plt.figure()\n",
    "ax = fig.add_axes([0,0,1,1])\n",
    "xvalues = ['Avg. Votes Up (Free User)', 'Avg. Votes Up (Paid User)']\n",
    "yvalues = [free_users_average_votes_up, paid_users_average_votes_up]\n",
    "ax.bar(xvalues, yvalues, color=['green', 'black'])\n",
    "plt.title('Avg. Votes Up for Free Users & Paid Users')\n",
    "plt.show()"
   ]
  },
  {
   "cell_type": "markdown",
   "metadata": {},
   "source": [
    "The following code is used to generate a bar graph comparing the **average steam algorithm** score for free users and paid users.\n",
    "\n",
    "*Based on the results of the bar graph we can see that reviews left by paid users have a higher steam algorithm score on average than free users.*"
   ]
  },
  {
   "cell_type": "code",
   "execution_count": null,
   "metadata": {},
   "outputs": [],
   "source": [
    "fig = plt.figure()\n",
    "ax = fig.add_axes([0,0,1,1])\n",
    "xvalues = ['Avg. Steam Algorithm Score (Free User)', 'Avg. Steam Algorithm Score (Paid User)']\n",
    "yvalues = [free_users_average_steam_algorithm_score, paid_users_average_steam_algorithm_score]\n",
    "plt.bar(xvalues, yvalues, color=['green','black'])\n",
    "plt.title('Avg. Steam Algorithm Score for Free Users & Paid Users')\n",
    "plt.show()"
   ]
  },
  {
   "cell_type": "markdown",
   "metadata": {},
   "source": [
    "The following code is used to generate a bar graph comparing the **average votes funny** for free users and paid users.\n",
    "\n",
    "*Based on the results of the bar graph we can see that reviews left by paid users have a higher number of votes funny on average than free users.*"
   ]
  },
  {
   "cell_type": "code",
   "execution_count": null,
   "metadata": {},
   "outputs": [],
   "source": [
    "fig = plt.figure()\n",
    "ax = fig.add_axes([0,0,1,1])\n",
    "xvalues = ['Avg. Votes Funny (Free User)', 'Avg. Votes Funny (Paid User)']\n",
    "yvalues = [free_users_average_votes_funny, paid_users_average_votes_funny]\n",
    "plt.bar(xvalues, yvalues, color=['green','black'])\n",
    "plt.title('Avg. Votes Funny for Free Users & Paid Users')\n",
    "plt.show()"
   ]
  },
  {
   "cell_type": "markdown",
   "metadata": {},
   "source": [
    "The following code is used to generate a bar graph comparing the **average length of review** for free users and paid users.\n",
    "\n",
    "*Based on the results of the bar graph we can see that reviews left by paid users have longer review on average than free users.*"
   ]
  },
  {
   "cell_type": "code",
   "execution_count": null,
   "metadata": {},
   "outputs": [],
   "source": [
    "fig = plt.figure()\n",
    "ax = fig.add_axes([0,0,1,1])\n",
    "xvalues = ['Avg. Review Length (Free User)', 'Avg. Review Length (Paid User)']\n",
    "yvalues = [free_users_review_length, paid_users_review_length]\n",
    "plt.bar(xvalues, yvalues, color=['green','black'])\n",
    "plt.title('Avg. Length of Review for Free Users & Paid Users')\n",
    "plt.show()"
   ]
  },
  {
   "cell_type": "markdown",
   "metadata": {},
   "source": [
    "The following code is used to generate a bar graph comparing the **average playtime at review** for free users and paid users.\n",
    "\n",
    "*Based on the results of the bar graph we can see that paid users have a slightly lower average playtime at review when compared against free users.*"
   ]
  },
  {
   "cell_type": "code",
   "execution_count": null,
   "metadata": {},
   "outputs": [],
   "source": [
    "fig = plt.figure()\n",
    "ax = fig.add_axes([0,0,1,1])\n",
    "xvalues = ['Avg. Playtime at Review (Free User)', 'Avg. Playtime at Review (Paid User)']\n",
    "yvalues = [free_users_average_playtime_at_review, paid_users_average_playtime_at_review]\n",
    "plt.bar(xvalues, yvalues, color=['green','black'])\n",
    "plt.title('Avg. Playtime at Review for Free Users & Paid Users')\n",
    "plt.show()"
   ]
  },
  {
   "cell_type": "markdown",
   "metadata": {},
   "source": [
    "The following code is used to generate a bar graph comparing the **average total playtime** for free users and paid users.\n",
    "\n",
    "*Based on the results of the bar graph we can see that paid users have a slightly lower total playtime than free users.*"
   ]
  },
  {
   "cell_type": "code",
   "execution_count": null,
   "metadata": {},
   "outputs": [],
   "source": [
    "fig = plt.figure()\n",
    "ax = fig.add_axes([0,0,1,1])\n",
    "xvalues = ['Avg. Total Playtime (Free User)', 'Avg. Total Playtime (Paid User)']\n",
    "yvalues = [free_users_average_playtime_forever, paid_users_average_playtime_forever]\n",
    "plt.bar(xvalues, yvalues, color=['green','black'])\n",
    "plt.title('Avg. Total Playtime for Free Users & Paid Users')\n",
    "plt.show()"
   ]
  },
  {
   "cell_type": "markdown",
   "metadata": {},
   "source": [
    "The following code is used to generate a bar graph comparing the **average playtime for the last two weeks** for free users and paid users.\n",
    "\n",
    "*Based on the results of the bar graph we can see that paid users have a significanly lower average total playtime the last two weeks than free users.*"
   ]
  },
  {
   "cell_type": "code",
   "execution_count": null,
   "metadata": {},
   "outputs": [],
   "source": [
    "fig = plt.figure()\n",
    "ax = fig.add_axes([0,0,1,1])\n",
    "xvalues = ['Avg. Playtime for Last Two Weeks (Free User)', 'Avg. Playtime for Last Two Weeks (Paid User)']\n",
    "yvalues = [free_users_average_playtime_last_two_weeks, paid_users_average_playtime_last_two_weeks]\n",
    "plt.bar(xvalues, yvalues, color=['green','black'])\n",
    "plt.title('Avg. Playtime for Last Two Weeks for Free Users & Paid Users')\n",
    "plt.show()"
   ]
  },
  {
   "cell_type": "markdown",
   "metadata": {},
   "source": [
    "### Conclusion\n",
    "\n",
    "Differences in the reviews between paid and free users is evident from the analysis of this experiment. We can see that reviews left by free users tend to have a slightly lower steam algorithm score and significantly lower votes up, votes funny and overall length of review than paid users. Paid users may be more inclined to leave a better review for the simple fact that paid users made the choice to purchase the game and are thus more emotionally invested in it than someone who had received it for free. The significant differences between the average votes up and length of review point to an overall difference in quality of review between the two groups of users. The final three bar charts show that the free users tend to have slightly higher average total playtime than paid user and a significantly higher average playtime for the last two weeks. One explanation for the difference in playtime for the last two weeks is that someone who has received the game for free may not be an avid gamer and thus does not have very many games to choose from. Someone who has paid for the game likely considers it to be a hobby worth spending money on and thus would be more likely to own a larger set of games, thus reducing the amount of time they spend on the reviewed game. Interestingly enough, there was not a very large difference in the amount of playtime at time of review (although free users had a slightly higher average playtime). This means that regardless of whether a user paid for or received a game for free, the amount of time spent playing a game before a review was submitted did not change significantly. "
   ]
  },
  {
   "cell_type": "code",
   "execution_count": null,
   "metadata": {},
   "outputs": [],
   "source": []
  },
  {
   "cell_type": "code",
   "execution_count": null,
   "metadata": {},
   "outputs": [],
   "source": []
  }
 ],
 "metadata": {
  "kernelspec": {
   "display_name": "Python 3",
   "language": "python",
   "name": "python3"
  },
  "language_info": {
   "codemirror_mode": {
    "name": "ipython",
    "version": 3
   },
   "file_extension": ".py",
   "mimetype": "text/x-python",
   "name": "python",
   "nbconvert_exporter": "python",
   "pygments_lexer": "ipython3",
   "version": "3.8.5"
  }
 },
 "nbformat": 4,
 "nbformat_minor": 4
}
