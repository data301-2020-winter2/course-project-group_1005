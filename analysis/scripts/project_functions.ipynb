{
 "cells": [
  {
   "cell_type": "code",
   "execution_count": 1,
   "metadata": {},
   "outputs": [],
   "source": [
    "import glob\n",
    "import pandas as pd\n",
    "import numpy as np\n",
    "\n",
    "def load_and_process(path):\n",
    "    frames = []\n",
    "    for file in glob.glob(path):\n",
    "        game_id = file[20:-4]\n",
    "        frame = (\n",
    "            pd\n",
    "            .read_csv(file, dtype=object, usecols=[\n",
    "                \"language\",\n",
    "                \"review\",\n",
    "                \"timestamp_created\",\n",
    "                \"timestamp_updated\",\n",
    "                \"voted_up\",\n",
    "                \"votes_up\",\n",
    "                \"votes_funny\",\n",
    "                \"weighted_vote_score\",\n",
    "                \"comment_count\",\n",
    "                \"received_for_free\",\n",
    "                \"written_during_early_access\",\n",
    "                \"author.num_games_owned\",\n",
    "                \"author.num_reviews\",\n",
    "                \"author.playtime_forever\",\n",
    "                \"author.playtime_last_two_weeks\",\n",
    "                \"author.playtime_at_review\",\n",
    "                \"author.last_played\"\n",
    "            ])\n",
    "            .rename(columns={\n",
    "                \"voted_up\": \"recommended\",\n",
    "                \"weighted_vote_score\": \"steam_algorithm_score\",\n",
    "                \"author.num_games_owned\": \"num_games_owned\",\n",
    "                \"author.num_reviews\": \"num_reviews\",\n",
    "                \"author.playtime_forever\": \"playtime_forever\",\n",
    "                \"author.playtime_last_two_weeks\": \"playtime_last_two_weeks\",\n",
    "                \"author.playtime_at_review\" : \"playtime_at_review\",\n",
    "                \"author.last_played\": \"last_played\"\n",
    "            })\n",
    "            .assign(game_id=game_id)\n",
    "        )\n",
    "        frames.append(frame)\n",
    "    data = pd.concat(objs=frames)\n",
    "    return data\n",
    "\n",
    "# Example:\n",
    "# data = load_and_process('..\\..\\data\\data_raw\\*.csv')\n",
    "# data"
   ]
  },
  {
   "cell_type": "code",
   "execution_count": null,
   "metadata": {},
   "outputs": [],
   "source": []
  },
  {
   "cell_type": "code",
   "execution_count": null,
   "metadata": {},
   "outputs": [],
   "source": []
  }
 ],
 "metadata": {
  "kernelspec": {
   "display_name": "Python 3",
   "language": "python",
   "name": "python3"
  },
  "language_info": {
   "codemirror_mode": {
    "name": "ipython",
    "version": 3
   },
   "file_extension": ".py",
   "mimetype": "text/x-python",
   "name": "python",
   "nbconvert_exporter": "python",
   "pygments_lexer": "ipython3",
   "version": "3.8.5"
  }
 },
 "nbformat": 4,
 "nbformat_minor": 4
}
