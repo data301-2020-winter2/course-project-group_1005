{
 "cells": [
  {
   "cell_type": "markdown",
   "metadata": {},
   "source": [
    "# Welcome to Milestone 02: Introduction to Markdown\n",
    "***"
   ]
  },
  {
   "cell_type": "markdown",
   "metadata": {},
   "source": [
    "Hello! This is my Python notebook demonstrating my knowledge in using Markdown to change a plain document into something nice and aesthetically pleasing to the eyes!"
   ]
  },
  {
   "cell_type": "markdown",
   "metadata": {},
   "source": [
    "Let's start off with my heading. Notice how it's bolded and in larger font? To do that is simple:\n",
    "> To **bold** text, simply use `**insert-text-here**` or `__insert-text-here__`  \n",
    "> To increase font size, use `#` before your text  \n",
    "\n",
    "⚠️ Be wary of the number of asterisks ( * ), underscores ( _ ), and octothorpes ( # ) you use as increasing or decreasing the number will change its function."
   ]
  },
  {
   "cell_type": "markdown",
   "metadata": {},
   "source": [
    "To follow up on my warning message above, this is what I meant:\n",
    "> Surrounding the text with <u>one</u> asterisk or underscore on either side will *italize* the text  \n",
    "> Using <u>three</u> asterisks or underscore on either side will ***bold AND italize*** the text\n",
    "\n",
    "When using octothorpes,\n",
    ">* use <u>one</u> for titles\n",
    ">* use <u>two</u> for headings\n",
    ">* use <u>three</u> for subheadings  \n",
    "\n",
    "The more #'s you use, the smaller the heading gets - but it is still much larger than regular text\\!  \n",
    "<font color = red> Note: </font> This will also slightly bold your text - in my heading, I used a mix of octothorpes and asterisks"
   ]
  },
  {
   "cell_type": "markdown",
   "metadata": {},
   "source": [
    "For quoted text or blockquotes (or I use it here for emphasis/variety), add a `>` before your text.  \n",
    "For a quote within a quote, use `>>` before your text."
   ]
  },
  {
   "cell_type": "markdown",
   "metadata": {},
   "source": [
    "Something I've noticed in Markdown that is kind of annoying is that specific special characters will trigger Markdown formatting!"
   ]
  },
  {
   "cell_type": "markdown",
   "metadata": {},
   "source": [
    "| Character Name | Symbol | Character Name | Symbol | Character Name | Symbol | Character Name | Symbol |\n",
    "| --- | --- | --- | --- | --- | --- | --- | --- |\n",
    "| Backslash | \\\\ | Backtick | \\` | Asterisk | \\* | Underscore | \\_ |\n",
    "| Curly Braces | \\{} | Square Brackets | \\[]| Parentheses | \\() | Octothorpe | \\# |\n",
    "| Plus Sign | \\+ | Hyphen | \\- | Period | \\. | Exclamation Mark | \\! |"
   ]
  },
  {
   "cell_type": "markdown",
   "metadata": {},
   "source": [
    "To avoid that, use `\\` before the special character to let Markdown know you're not trying to format, but want the literal character."
   ]
  },
  {
   "cell_type": "markdown",
   "metadata": {},
   "source": [
    "Did you know that you can also make tables in Markdown? To do so, use a mix of hyphens ( - ) and pipelines ( | ).  \n",
    "> Use a minimum of <u>three</u> hyphens to create a visible horizontal divider  \n",
    "> Use pipelines on the sides and in-between columns\n",
    "\n",
    "Here's an example: "
   ]
  },
  {
   "cell_type": "markdown",
   "metadata": {},
   "source": [
    "| Variable | Value |\n",
    "| --- | --- |\n",
    "| x   | 0   |\n",
    "| y   | 0   |\n",
    "\n",
    "And this is the format use to create it:   \n",
    "```\n",
    "                                                           | Variable | Value |\n",
    "                                                           | --- | --- |\n",
    "                                                           | x   | 0   |\n",
    "                                                           | y   | 0   |\n",
    "```"
   ]
  },
  {
   "cell_type": "markdown",
   "metadata": {},
   "source": [
    "#### Conclusion \n",
    "Today I've shown you some of the things I can do in Markdown. Of course, there's a lot more out there that I do know but didn't show/explain on here such as numbered lists, hyperlinks, math symbols, etc. **but** hopefully I've shown you enough to make you think: \"*Maysey knows her Markdown pretty well.*\"\n",
    "\n",
    "I would also like to point out that this isn't **all** that Markdown can do. There are definitely some limitations in what general Markdown (by using a few simple symbols) can do but with the help of other code (i.e. HTML or CSS), we can do even more! This includes things like changing the font colour, font style, font size, underlining, etc.\n",
    "\n",
    "> (HTML) To colour text, use `<font color=insert_colour_here> insert_text_here </font>`   \n",
    "> (HTML) To underline text, use `<u> insert_text_here </u>`   \n",
    "> (CSS) To change the font, use `<span style=\"font-family:insert_font_name;\"> insert_text_here </span>`  \n",
    "> (CSS) To change the size, use `<span style=\"font-size:insert_size_here;\"> insert_text_here </span>`\n",
    "\n",
    "**BUT** we must be careful when using HTML and CSS tags because it's not always supported! For example, when you view this Python Notebook on Jupyter lab, the tag formatting works fine, but when viewed on GitHub, the tags do not work and just show up as plain text 😕"
   ]
  },
  {
   "cell_type": "markdown",
   "metadata": {},
   "source": [
    "Well, this is the end of my Milestone 02. Until next time, ciao! 😄"
   ]
  }
 ],
 "metadata": {
  "kernelspec": {
   "display_name": "Python 3",
   "language": "python",
   "name": "python3"
  },
  "language_info": {
   "codemirror_mode": {
    "name": "ipython",
    "version": 3
   },
   "file_extension": ".py",
   "mimetype": "text/x-python",
   "name": "python",
   "nbconvert_exporter": "python",
   "pygments_lexer": "ipython3",
   "version": "3.8.5"
  }
 },
 "nbformat": 4,
 "nbformat_minor": 4
}
