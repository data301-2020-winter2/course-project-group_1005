{
 "cells": [
  {
   "cell_type": "markdown",
   "metadata": {},
   "source": [
    "# Milestone 02: Exploratory Data Analysis (EDA)\n",
    "***"
   ]
  },
  {
   "cell_type": "code",
   "execution_count": 1,
   "metadata": {},
   "outputs": [],
   "source": [
    "#Import Libraries\n",
    "import os\n",
    "import sys\n",
    "import numpy as np\n",
    "import pandas as pd\n",
    "import matplotlib.pylab as plt\n",
    "import seaborn as sns"
   ]
  },
  {
   "cell_type": "code",
   "execution_count": 64,
   "metadata": {},
   "outputs": [
    {
     "data": {
      "text/plain": [
       "Index(['language', 'review', 'timestamp_created', 'timestamp_updated',\n",
       "       'recommended', 'votes_up', 'votes_funny', 'steam_algorithm_score',\n",
       "       'comment_count', 'received_for_free', 'written_during_early_access',\n",
       "       'num_games_owned', 'num_reviews', 'playtime_forever',\n",
       "       'playtime_last_two_weeks', 'playtime_at_review', 'last_played',\n",
       "       'game_id'],\n",
       "      dtype='object')"
      ]
     },
     "execution_count": 64,
     "metadata": {},
     "output_type": "execute_result"
    }
   ],
   "source": [
    "module_path = os.path.abspath(os.path.join('..'))\n",
    "if module_path not in sys.path:\n",
    "    sys.path.append(module_path)\n",
    "from scripts import project_functions\n",
    "\n",
    "df = project_functions.load_and_process('..\\..\\data\\data_raw\\*.csv')\n",
    "df.columns"
   ]
  },
  {
   "cell_type": "markdown",
   "metadata": {},
   "source": [
    "Our project focuses on analyzing Steam reviews of various games in a wide range of genres. A contributing factor to the quality of a review may involve the user's length of gaming experience - how many games have they played prior to writing this review?\n",
    "\n",
    "The more gaming experience a user has, the more likely they are to give a more extensive review on the game as they can compare it to other games they've played to weight the pros and cons.\n",
    "\n",
    "Below is a visualization of the distribution between the number of users (frequency) and the number of games owned:"
   ]
  },
  {
   "cell_type": "code",
   "execution_count": 3,
   "metadata": {},
   "outputs": [],
   "source": [
    "frequency = df['num_games_owned'].value_counts()"
   ]
  },
  {
   "cell_type": "code",
   "execution_count": 20,
   "metadata": {},
   "outputs": [],
   "source": [
    "data = pd.DataFrame({\n",
    "    'Number of Games Owned': pd.to_numeric(frequency.index),\n",
    "    'Number of Users': frequency.values\n",
    "})\n",
    "data_s = data.sort_values(['Number of Games Owned'])"
   ]
  },
  {
   "cell_type": "code",
   "execution_count": 21,
   "metadata": {},
   "outputs": [
    {
     "data": {
      "text/plain": [
       "<AxesSubplot:xlabel='Number of Games Owned', ylabel='Number of Users'>"
      ]
     },
     "execution_count": 21,
     "metadata": {},
     "output_type": "execute_result"
    },
    {
     "data": {
      "image/png": "[encoded data removed]",
      "text/plain": [
       "<Figure size 432x288 with 1 Axes>"
      ]
     },
     "metadata": {
      "needs_background": "light"
     },
     "output_type": "display_data"
    }
   ],
   "source": [
    "data_s.plot( x='Number of Games Owned', y='Number of Users', kind='scatter')"
   ]
  },
  {
   "cell_type": "markdown",
   "metadata": {},
   "source": [
    "As we can see, most of our data comes from users that own less than 1000 games - which was kind of expected. Let's view this data again using a table to get the actual values:"
   ]
  },
  {
   "cell_type": "code",
   "execution_count": 42,
   "metadata": {},
   "outputs": [
    {
     "data": {
      "text/html": [
       "<div>\n",
       "<style scoped>\n",
       "    .dataframe tbody tr th:only-of-type {\n",
       "        vertical-align: middle;\n",
       "    }\n",
       "\n",
       "    .dataframe tbody tr th {\n",
       "        vertical-align: top;\n",
       "    }\n",
       "\n",
       "    .dataframe thead th {\n",
       "        text-align: right;\n",
       "    }\n",
       "</style>\n",
       "<table border=\"1\" class=\"dataframe\">\n",
       "  <thead>\n",
       "    <tr style=\"text-align: right;\">\n",
       "      <th></th>\n",
       "      <th>501</th>\n",
       "      <th>25</th>\n",
       "      <th>1</th>\n",
       "      <th>3</th>\n",
       "      <th>0</th>\n",
       "      <th>2</th>\n",
       "      <th>4</th>\n",
       "      <th>5</th>\n",
       "      <th>6</th>\n",
       "      <th>7</th>\n",
       "      <th>...</th>\n",
       "      <th>1778</th>\n",
       "      <th>2023</th>\n",
       "      <th>2096</th>\n",
       "      <th>2029</th>\n",
       "      <th>2068</th>\n",
       "      <th>1872</th>\n",
       "      <th>2147</th>\n",
       "      <th>1466</th>\n",
       "      <th>1776</th>\n",
       "      <th>1597</th>\n",
       "    </tr>\n",
       "  </thead>\n",
       "  <tbody>\n",
       "    <tr>\n",
       "      <th>Number of Games Owned</th>\n",
       "      <td>0</td>\n",
       "      <td>1</td>\n",
       "      <td>2</td>\n",
       "      <td>3</td>\n",
       "      <td>4</td>\n",
       "      <td>5</td>\n",
       "      <td>6</td>\n",
       "      <td>7</td>\n",
       "      <td>8</td>\n",
       "      <td>9</td>\n",
       "      <td>...</td>\n",
       "      <td>11568</td>\n",
       "      <td>11607</td>\n",
       "      <td>12110</td>\n",
       "      <td>12138</td>\n",
       "      <td>12172</td>\n",
       "      <td>12599</td>\n",
       "      <td>14041</td>\n",
       "      <td>14329</td>\n",
       "      <td>14341</td>\n",
       "      <td>19072</td>\n",
       "    </tr>\n",
       "    <tr>\n",
       "      <th>Number of Users</th>\n",
       "      <td>55</td>\n",
       "      <td>3433</td>\n",
       "      <td>6511</td>\n",
       "      <td>6466</td>\n",
       "      <td>6557</td>\n",
       "      <td>6474</td>\n",
       "      <td>6349</td>\n",
       "      <td>6302</td>\n",
       "      <td>5944</td>\n",
       "      <td>5865</td>\n",
       "      <td>...</td>\n",
       "      <td>1</td>\n",
       "      <td>1</td>\n",
       "      <td>1</td>\n",
       "      <td>1</td>\n",
       "      <td>1</td>\n",
       "      <td>1</td>\n",
       "      <td>1</td>\n",
       "      <td>2</td>\n",
       "      <td>1</td>\n",
       "      <td>2</td>\n",
       "    </tr>\n",
       "  </tbody>\n",
       "</table>\n",
       "<p>2 rows × 2294 columns</p>\n",
       "</div>"
      ],
      "text/plain": [
       "                       501   25    1     3     0     2     4     5     6     \\\n",
       "Number of Games Owned     0     1     2     3     4     5     6     7     8   \n",
       "Number of Users          55  3433  6511  6466  6557  6474  6349  6302  5944   \n",
       "\n",
       "                       7     ...   1778   2023   2096   2029   2068   1872  \\\n",
       "Number of Games Owned     9  ...  11568  11607  12110  12138  12172  12599   \n",
       "Number of Users        5865  ...      1      1      1      1      1      1   \n",
       "\n",
       "                        2147   1466   1776   1597  \n",
       "Number of Games Owned  14041  14329  14341  19072  \n",
       "Number of Users            1      2      1      2  \n",
       "\n",
       "[2 rows x 2294 columns]"
      ]
     },
     "execution_count": 42,
     "metadata": {},
     "output_type": "execute_result"
    }
   ],
   "source": [
    "data_t = data_s.transpose()\n",
    "data_t"
   ]
  },
  {
   "cell_type": "code",
   "execution_count": 61,
   "metadata": {},
   "outputs": [
    {
     "name": "stdout",
     "output_type": "stream",
     "text": [
      "Sum of the first 50 data entries:\n",
      "Number of Games Owned      1225\n",
      "Number of Users          189030\n",
      "dtype: int64\n"
     ]
    }
   ],
   "source": [
    "data_50 = data_s.head(50)\n",
    "sum_val = data_50.sum()\n",
    "print(\"Sum of the first 50 data entries:\")\n",
    "print(sum_val)"
   ]
  },
  {
   "cell_type": "code",
   "execution_count": 62,
   "metadata": {},
   "outputs": [
    {
     "name": "stdout",
     "output_type": "stream",
     "text": [
      "Overall Sum in the dataset:\n",
      "Number of Games Owned    3393759\n",
      "Number of Users           391332\n",
      "dtype: int64\n"
     ]
    }
   ],
   "source": [
    "sum_val = data_t.sum(axis=1)\n",
    "print(\"Overall Sum in the dataset:\")\n",
    "print(sum_val)"
   ]
  },
  {
   "cell_type": "code",
   "execution_count": 63,
   "metadata": {},
   "outputs": [
    {
     "name": "stdout",
     "output_type": "stream",
     "text": [
      "Overall Maximum in the dataset:\n",
      "Number of Games Owned    19072\n",
      "Number of Users           6557\n",
      "dtype: int64\n"
     ]
    }
   ],
   "source": [
    "max_val = data_t.max(axis=1)\n",
    "print(\"Overall Maximum in the dataset:\")\n",
    "print(max_val)"
   ]
  },
  {
   "cell_type": "markdown",
   "metadata": {},
   "source": [
    "From this quick analysis, we see that highest number of games owned is 19 072 and the lowest is 0. Also note that most reviews came from people that owned 1 to 5 games (at least 6000 users each), with the highest being 4 Steam games. And as we see from the tables and calculations above, those owning 50 or less games account for almost half of all the reviews in our data.\n",
    "\n",
    "One interesting point to note is that there are 55 game reviews that came from reviewers that don't own any Steam games, which brings us to wonder: did they obtain the game from a different source other than Steam or did they review the game without even playing it yet?\n",
    "\n",
    "Much like the amount of gaming experience, the amount of playtime is also an important contributing factor. Some may leave a review after 5-10 minutes of playing and others might review after a week of playing. This will effect the content of the review as those that have a short playtime may leave biased or inaccurate reviews as it's mostly based on first impressions of the game. Meanwhile, those that have a longer playtime not only review based on first impressions, but they also have some experience to comment on other aspects as well."
   ]
  },
  {
   "cell_type": "code",
   "execution_count": 67,
   "metadata": {},
   "outputs": [
    {
     "data": {
      "text/plain": [
       "181       274\n",
       "180       271\n",
       "185       261\n",
       "184       246\n",
       "182       242\n",
       "         ... \n",
       "28292       1\n",
       "288115      1\n",
       "32153       1\n",
       "217553      1\n",
       "25122       1\n",
       "Name: playtime_at_review, Length: 65096, dtype: int64"
      ]
     },
     "execution_count": 67,
     "metadata": {},
     "output_type": "execute_result"
    }
   ],
   "source": [
    "playtime = df['playtime_at_review'].value_counts()\n",
    "playtime"
   ]
  },
  {
   "cell_type": "code",
   "execution_count": 68,
   "metadata": {},
   "outputs": [],
   "source": [
    "data_p = pd.DataFrame({\n",
    "    'Play Time in Minutes': pd.to_numeric(playtime.index),\n",
    "    'Number of Users': playtime.values\n",
    "})\n",
    "data_ps = data_p.sort_values(['Play Time in Minutes'])"
   ]
  },
  {
   "cell_type": "code",
   "execution_count": null,
   "metadata": {},
   "outputs": [],
   "source": [
    "data_ps.plot( x='Play Time in Minutes', y='Number of Users', kind='bar')"
   ]
  },
  {
   "cell_type": "code",
   "execution_count": null,
   "metadata": {},
   "outputs": [],
   "source": []
  }
 ],
 "metadata": {
  "kernelspec": {
   "display_name": "Python 3",
   "language": "python",
   "name": "python3"
  },
  "language_info": {
   "codemirror_mode": {
    "name": "ipython",
    "version": 3
   },
   "file_extension": ".py",
   "mimetype": "text/x-python",
   "name": "python",
   "nbconvert_exporter": "python",
   "pygments_lexer": "ipython3",
   "version": "3.8.5"
  }
 },
 "nbformat": 4,
 "nbformat_minor": 4
}
