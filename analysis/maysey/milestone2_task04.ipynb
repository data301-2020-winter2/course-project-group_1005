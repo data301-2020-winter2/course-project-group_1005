{
 "cells": [
  {
   "cell_type": "markdown",
   "metadata": {},
   "source": [
    "# Milestone 02: Exploratory Data Analysis (EDA)\n",
    "***"
   ]
  },
  {
   "cell_type": "code",
   "execution_count": 2,
   "metadata": {},
   "outputs": [],
   "source": [
    "#Import Libraries\n",
    "import os\n",
    "import sys\n",
    "import numpy as np\n",
    "import pandas as pd\n",
    "import matplotlib.pylab as plt\n",
    "import seaborn as sns"
   ]
  },
  {
   "cell_type": "code",
   "execution_count": 3,
   "metadata": {},
   "outputs": [],
   "source": [
    "module_path = os.path.abspath(os.path.join('..'))\n",
    "if module_path not in sys.path:\n",
    "    sys.path.append(module_path)\n",
    "from scripts import project_functions\n",
    "\n",
    "df = project_functions.load_and_process('..\\..\\data\\data_raw\\*.csv')"
   ]
  },
  {
   "cell_type": "markdown",
   "metadata": {},
   "source": [
    "Our project focuses on analyzing Steam reviews of various games in a wide range of genres. A contributing factor to the quality of a review may involve the user's length of gaming experience - how many games have they played prior to writing this review?\n",
    "\n",
    "The more gaming experience a user has, the more likely they are to give a more extensive review on the game as they can compare it to other games they've played to weight the pros and cons.\n",
    "\n",
    "Below is a visualization of the distribution between the number of users (frequency) and the number of games owned:"
   ]
  },
  {
   "cell_type": "code",
   "execution_count": 4,
   "metadata": {},
   "outputs": [],
   "source": [
    "frequency = df['num_games_owned'].value_counts()"
   ]
  },
  {
   "cell_type": "code",
   "execution_count": 5,
   "metadata": {},
   "outputs": [],
   "source": [
    "data = pd.DataFrame({\n",
    "    'Number of Games Owned': pd.to_numeric(frequency.index),\n",
    "    'Number of Users': frequency.values\n",
    "})\n",
    "data_s = data.sort_values(['Number of Games Owned'])"
   ]
  },
  {
   "cell_type": "code",
   "execution_count": 6,
   "metadata": {},
   "outputs": [
    {
     "data": {
      "text/plain": [
       "<AxesSubplot:xlabel='Number of Games Owned', ylabel='Number of Users'>"
      ]
     },
     "execution_count": 6,
     "metadata": {},
     "output_type": "execute_result"
    },
    {
     "data": {
      "image/png": "[encoded data removed]",
      "text/plain": [
       "<Figure size 432x288 with 1 Axes>"
      ]
     },
     "metadata": {
      "needs_background": "light"
     },
     "output_type": "display_data"
    }
   ],
   "source": [
    "data_s.plot( x='Number of Games Owned', y='Number of Users', kind='scatter')"
   ]
  },
  {
   "cell_type": "markdown",
   "metadata": {},
   "source": [
    "As we can see, most of our data comes from users that own less than 1000 games - which was kind of expected. Let's view this data again using a table to get the actual values:"
   ]
  },
  {
   "cell_type": "code",
   "execution_count": 7,
   "metadata": {},
   "outputs": [
    {
     "data": {
      "text/html": [
       "<div>\n",
       "<style scoped>\n",
       "    .dataframe tbody tr th:only-of-type {\n",
       "        vertical-align: middle;\n",
       "    }\n",
       "\n",
       "    .dataframe tbody tr th {\n",
       "        vertical-align: top;\n",
       "    }\n",
       "\n",
       "    .dataframe thead th {\n",
       "        text-align: right;\n",
       "    }\n",
       "</style>\n",
       "<table border=\"1\" class=\"dataframe\">\n",
       "  <thead>\n",
       "    <tr style=\"text-align: right;\">\n",
       "      <th></th>\n",
       "      <th>501</th>\n",
       "      <th>25</th>\n",
       "      <th>1</th>\n",
       "      <th>3</th>\n",
       "      <th>0</th>\n",
       "      <th>2</th>\n",
       "      <th>4</th>\n",
       "      <th>5</th>\n",
       "      <th>6</th>\n",
       "      <th>7</th>\n",
       "      <th>...</th>\n",
       "      <th>2097</th>\n",
       "      <th>1924</th>\n",
       "      <th>1957</th>\n",
       "      <th>2191</th>\n",
       "      <th>2021</th>\n",
       "      <th>1871</th>\n",
       "      <th>2090</th>\n",
       "      <th>1523</th>\n",
       "      <th>1845</th>\n",
       "      <th>1496</th>\n",
       "    </tr>\n",
       "  </thead>\n",
       "  <tbody>\n",
       "    <tr>\n",
       "      <th>Number of Games Owned</th>\n",
       "      <td>0</td>\n",
       "      <td>1</td>\n",
       "      <td>2</td>\n",
       "      <td>3</td>\n",
       "      <td>4</td>\n",
       "      <td>5</td>\n",
       "      <td>6</td>\n",
       "      <td>7</td>\n",
       "      <td>8</td>\n",
       "      <td>9</td>\n",
       "      <td>...</td>\n",
       "      <td>11568</td>\n",
       "      <td>11607</td>\n",
       "      <td>12110</td>\n",
       "      <td>12138</td>\n",
       "      <td>12172</td>\n",
       "      <td>12599</td>\n",
       "      <td>14041</td>\n",
       "      <td>14329</td>\n",
       "      <td>14341</td>\n",
       "      <td>19072</td>\n",
       "    </tr>\n",
       "    <tr>\n",
       "      <th>Number of Users</th>\n",
       "      <td>55</td>\n",
       "      <td>3433</td>\n",
       "      <td>6511</td>\n",
       "      <td>6466</td>\n",
       "      <td>6557</td>\n",
       "      <td>6474</td>\n",
       "      <td>6349</td>\n",
       "      <td>6302</td>\n",
       "      <td>5944</td>\n",
       "      <td>5865</td>\n",
       "      <td>...</td>\n",
       "      <td>1</td>\n",
       "      <td>1</td>\n",
       "      <td>1</td>\n",
       "      <td>1</td>\n",
       "      <td>1</td>\n",
       "      <td>1</td>\n",
       "      <td>1</td>\n",
       "      <td>2</td>\n",
       "      <td>1</td>\n",
       "      <td>2</td>\n",
       "    </tr>\n",
       "  </tbody>\n",
       "</table>\n",
       "<p>2 rows × 2294 columns</p>\n",
       "</div>"
      ],
      "text/plain": [
       "                       501   25    1     3     0     2     4     5     6     \\\n",
       "Number of Games Owned     0     1     2     3     4     5     6     7     8   \n",
       "Number of Users          55  3433  6511  6466  6557  6474  6349  6302  5944   \n",
       "\n",
       "                       7     ...   2097   1924   1957   2191   2021   1871  \\\n",
       "Number of Games Owned     9  ...  11568  11607  12110  12138  12172  12599   \n",
       "Number of Users        5865  ...      1      1      1      1      1      1   \n",
       "\n",
       "                        2090   1523   1845   1496  \n",
       "Number of Games Owned  14041  14329  14341  19072  \n",
       "Number of Users            1      2      1      2  \n",
       "\n",
       "[2 rows x 2294 columns]"
      ]
     },
     "execution_count": 7,
     "metadata": {},
     "output_type": "execute_result"
    }
   ],
   "source": [
    "data_t = data_s.transpose()\n",
    "data_t"
   ]
  },
  {
   "cell_type": "code",
   "execution_count": 8,
   "metadata": {},
   "outputs": [
    {
     "name": "stdout",
     "output_type": "stream",
     "text": [
      "Sum of the first 50 data entries:\n",
      "Number of Games Owned      1225\n",
      "Number of Users          189030\n",
      "dtype: int64\n"
     ]
    }
   ],
   "source": [
    "data_50 = data_s.head(50)\n",
    "sum_val = data_50.sum()\n",
    "print(\"Sum of the first 50 data entries:\")\n",
    "print(sum_val)"
   ]
  },
  {
   "cell_type": "code",
   "execution_count": 9,
   "metadata": {},
   "outputs": [
    {
     "name": "stdout",
     "output_type": "stream",
     "text": [
      "Overall Sum in the dataset:\n",
      "Number of Games Owned    3393759\n",
      "Number of Users           391332\n",
      "dtype: int64\n"
     ]
    }
   ],
   "source": [
    "sum_val = data_t.sum(axis=1)\n",
    "print(\"Overall Sum in the dataset:\")\n",
    "print(sum_val)"
   ]
  },
  {
   "cell_type": "code",
   "execution_count": 10,
   "metadata": {},
   "outputs": [
    {
     "name": "stdout",
     "output_type": "stream",
     "text": [
      "Overall Maximum in the dataset:\n",
      "Number of Games Owned    19072\n",
      "Number of Users           6557\n",
      "dtype: int64\n"
     ]
    }
   ],
   "source": [
    "max_val = data_t.max(axis=1)\n",
    "print(\"Overall Maximum in the dataset:\")\n",
    "print(max_val)"
   ]
  },
  {
   "cell_type": "markdown",
   "metadata": {},
   "source": [
    "From this quick analysis, we see that highest number of games owned is 19 072 and the lowest is 0. Also note that most reviews came from people that owned 1 to 5 games (at least 6000 users each), with the highest being 4 Steam games. And as we see from the tables and calculations above, those owning 50 or less games account for almost half of all the reviews in our data.\n",
    "\n",
    "One interesting point to note is that there are 55 game reviews that came from reviewers that don't own any Steam games, which brings us to wonder: did they obtain the game from a different source other than Steam or did they review the game without even playing it yet?\n",
    "\n",
    "Much like the amount of gaming experience, the amount of playtime is also an important contributing factor. Some may leave a review after 5-10 minutes of playing and others might review after a week of playing. This will effect the content of the review as those that have a short playtime may leave biased or inaccurate reviews as it's mostly based on first impressions of the game. Meanwhile, those that have a longer playtime not only review based on first impressions, but they also have some experience to comment on other aspects as well."
   ]
  },
  {
   "cell_type": "code",
   "execution_count": 1,
   "metadata": {},
   "outputs": [
    {
     "ename": "NameError",
     "evalue": "name 'df' is not defined",
     "output_type": "error",
     "traceback": [
      "\u001b[1;31m---------------------------------------------------------------------------\u001b[0m",
      "\u001b[1;31mNameError\u001b[0m                                 Traceback (most recent call last)",
      "\u001b[1;32m<ipython-input-1-9dabea19e24c>\u001b[0m in \u001b[0;36m<module>\u001b[1;34m\u001b[0m\n\u001b[1;32m----> 1\u001b[1;33m \u001b[0mplaytime\u001b[0m \u001b[1;33m=\u001b[0m \u001b[0mdf\u001b[0m\u001b[1;33m[\u001b[0m\u001b[1;34m'playtime_at_review'\u001b[0m\u001b[1;33m]\u001b[0m\u001b[1;33m.\u001b[0m\u001b[0mvalue_counts\u001b[0m\u001b[1;33m(\u001b[0m\u001b[1;33m)\u001b[0m\u001b[1;33m\u001b[0m\u001b[1;33m\u001b[0m\u001b[0m\n\u001b[0m",
      "\u001b[1;31mNameError\u001b[0m: name 'df' is not defined"
     ]
    }
   ],
   "source": [
    "playtime = df['playtime_at_review'].value_counts()"
   ]
  },
  {
   "cell_type": "code",
   "execution_count": 12,
   "metadata": {},
   "outputs": [],
   "source": [
    "data_p = pd.DataFrame({\n",
    "    'Play Time in Minutes': pd.to_numeric(playtime.index),\n",
    "    'Number of Users': playtime.values\n",
    "})\n",
    "data_ps = data_p.sort_values(['Play Time in Minutes'])"
   ]
  },
  {
   "cell_type": "code",
   "execution_count": 13,
   "metadata": {},
   "outputs": [
    {
     "data": {
      "text/plain": [
       "<AxesSubplot:xlabel='Play Time in Minutes', ylabel='Number of Users'>"
      ]
     },
     "execution_count": 13,
     "metadata": {},
     "output_type": "execute_result"
    },
    {
     "data": {
      "image/png": "[encoded data removed]",
      "text/plain": [
       "<Figure size 432x288 with 1 Axes>"
      ]
     },
     "metadata": {
      "needs_background": "light"
     },
     "output_type": "display_data"
    }
   ],
   "source": [
    "data_ps.plot( x='Play Time in Minutes', y='Number of Users', kind='scatter')"
   ]
  },
  {
   "cell_type": "markdown",
   "metadata": {},
   "source": [
    "Once again, let's use a table to see the actual values of this data:"
   ]
  },
  {
   "cell_type": "code",
   "execution_count": 22,
   "metadata": {},
   "outputs": [
    {
     "data": {
      "text/html": [
       "<div>\n",
       "<style scoped>\n",
       "    .dataframe tbody tr th:only-of-type {\n",
       "        vertical-align: middle;\n",
       "    }\n",
       "\n",
       "    .dataframe tbody tr th {\n",
       "        vertical-align: top;\n",
       "    }\n",
       "\n",
       "    .dataframe thead th {\n",
       "        text-align: right;\n",
       "    }\n",
       "</style>\n",
       "<table border=\"1\" class=\"dataframe\">\n",
       "  <thead>\n",
       "    <tr style=\"text-align: right;\">\n",
       "      <th></th>\n",
       "      <th>11742</th>\n",
       "      <th>57976</th>\n",
       "      <th>64117</th>\n",
       "      <th>14150</th>\n",
       "      <th>45479</th>\n",
       "      <th>12474</th>\n",
       "      <th>42873</th>\n",
       "      <th>11809</th>\n",
       "      <th>118</th>\n",
       "      <th>20666</th>\n",
       "      <th>...</th>\n",
       "      <th>38432</th>\n",
       "      <th>42063</th>\n",
       "      <th>37203</th>\n",
       "      <th>47433</th>\n",
       "      <th>48832</th>\n",
       "      <th>52392</th>\n",
       "      <th>39024</th>\n",
       "      <th>58590</th>\n",
       "      <th>32559</th>\n",
       "      <th>36176</th>\n",
       "    </tr>\n",
       "  </thead>\n",
       "  <tbody>\n",
       "    <tr>\n",
       "      <th>Play Time in Minutes</th>\n",
       "      <td>1.0</td>\n",
       "      <td>1.0</td>\n",
       "      <td>2.0</td>\n",
       "      <td>2.0</td>\n",
       "      <td>3.0</td>\n",
       "      <td>3.0</td>\n",
       "      <td>4.0</td>\n",
       "      <td>4.0</td>\n",
       "      <td>5.0</td>\n",
       "      <td>5.0</td>\n",
       "      <td>...</td>\n",
       "      <td>1053350.0</td>\n",
       "      <td>1102577.0</td>\n",
       "      <td>1144066.0</td>\n",
       "      <td>1229270.0</td>\n",
       "      <td>1249496.0</td>\n",
       "      <td>1257989.0</td>\n",
       "      <td>1328794.0</td>\n",
       "      <td>1426669.0</td>\n",
       "      <td>1536702.0</td>\n",
       "      <td>1556556.0</td>\n",
       "    </tr>\n",
       "    <tr>\n",
       "      <th>Number of Users</th>\n",
       "      <td>6.0</td>\n",
       "      <td>1.0</td>\n",
       "      <td>1.0</td>\n",
       "      <td>4.0</td>\n",
       "      <td>1.0</td>\n",
       "      <td>5.0</td>\n",
       "      <td>1.0</td>\n",
       "      <td>5.0</td>\n",
       "      <td>157.0</td>\n",
       "      <td>3.0</td>\n",
       "      <td>...</td>\n",
       "      <td>1.0</td>\n",
       "      <td>1.0</td>\n",
       "      <td>1.0</td>\n",
       "      <td>1.0</td>\n",
       "      <td>1.0</td>\n",
       "      <td>1.0</td>\n",
       "      <td>1.0</td>\n",
       "      <td>1.0</td>\n",
       "      <td>1.0</td>\n",
       "      <td>1.0</td>\n",
       "    </tr>\n",
       "  </tbody>\n",
       "</table>\n",
       "<p>2 rows × 65096 columns</p>\n",
       "</div>"
      ],
      "text/plain": [
       "                      11742  57976  64117  14150  45479  12474  42873  11809  \\\n",
       "Play Time in Minutes    1.0    1.0    2.0    2.0    3.0    3.0    4.0    4.0   \n",
       "Number of Users         6.0    1.0    1.0    4.0    1.0    5.0    1.0    5.0   \n",
       "\n",
       "                      118    20666  ...      38432      42063      37203  \\\n",
       "Play Time in Minutes    5.0    5.0  ...  1053350.0  1102577.0  1144066.0   \n",
       "Number of Users       157.0    3.0  ...        1.0        1.0        1.0   \n",
       "\n",
       "                          47433      48832      52392      39024      58590  \\\n",
       "Play Time in Minutes  1229270.0  1249496.0  1257989.0  1328794.0  1426669.0   \n",
       "Number of Users             1.0        1.0        1.0        1.0        1.0   \n",
       "\n",
       "                          32559      36176  \n",
       "Play Time in Minutes  1536702.0  1556556.0  \n",
       "Number of Users             1.0        1.0  \n",
       "\n",
       "[2 rows x 65096 columns]"
      ]
     },
     "execution_count": 22,
     "metadata": {},
     "output_type": "execute_result"
    }
   ],
   "source": [
    "data_ptrans = data_ps.transpose()\n",
    "data_ptrans"
   ]
  },
  {
   "cell_type": "code",
   "execution_count": 16,
   "metadata": {},
   "outputs": [
    {
     "name": "stdout",
     "output_type": "stream",
     "text": [
      "Sum of the first 50 data entries:\n",
      "Play Time in Minutes     670.0\n",
      "Number of Users         2978.0\n",
      "dtype: float64\n"
     ]
    }
   ],
   "source": [
    "data_p50 = data_ps.head(50)\n",
    "sum_val = data_p50.sum()\n",
    "print(\"Sum of the first 50 data entries:\")\n",
    "print(sum_val)"
   ]
  },
  {
   "cell_type": "code",
   "execution_count": 20,
   "metadata": {},
   "outputs": [
    {
     "name": "stdout",
     "output_type": "stream",
     "text": [
      "Overall Sum in the dataset:\n",
      "Play Time in Minutes    3.802863e+09\n",
      "Number of Users         3.912560e+05\n",
      "dtype: float64\n"
     ]
    }
   ],
   "source": [
    "sum_val = data_ptrans.sum(axis=1)\n",
    "print(\"Overall Sum in the dataset:\")\n",
    "print(sum_val)"
   ]
  },
  {
   "cell_type": "code",
   "execution_count": 21,
   "metadata": {},
   "outputs": [
    {
     "name": "stdout",
     "output_type": "stream",
     "text": [
      "Overall Maximum in the dataset:\n",
      "Play Time in Minutes    1556556.0\n",
      "Number of Users             274.0\n",
      "dtype: float64\n"
     ]
    }
   ],
   "source": [
    "max_val = data_ptrans.max(axis=1)\n",
    "print(\"Overall Maximum in the dataset:\")\n",
    "print(max_val)"
   ]
  },
  {
   "cell_type": "code",
   "execution_count": 23,
   "metadata": {},
   "outputs": [
    {
     "data": {
      "text/html": [
       "<div>\n",
       "<style scoped>\n",
       "    .dataframe tbody tr th:only-of-type {\n",
       "        vertical-align: middle;\n",
       "    }\n",
       "\n",
       "    .dataframe tbody tr th {\n",
       "        vertical-align: top;\n",
       "    }\n",
       "\n",
       "    .dataframe thead th {\n",
       "        text-align: right;\n",
       "    }\n",
       "</style>\n",
       "<table border=\"1\" class=\"dataframe\">\n",
       "  <thead>\n",
       "    <tr style=\"text-align: right;\">\n",
       "      <th></th>\n",
       "      <th>Play Time in Minutes</th>\n",
       "      <th>Number of Users</th>\n",
       "    </tr>\n",
       "  </thead>\n",
       "  <tbody>\n",
       "    <tr>\n",
       "      <th>0</th>\n",
       "      <td>181.0</td>\n",
       "      <td>274</td>\n",
       "    </tr>\n",
       "  </tbody>\n",
       "</table>\n",
       "</div>"
      ],
      "text/plain": [
       "   Play Time in Minutes  Number of Users\n",
       "0                 181.0              274"
      ]
     },
     "execution_count": 23,
     "metadata": {},
     "output_type": "execute_result"
    }
   ],
   "source": [
    "data_ps.loc[data_ps['Number of Users'] == 274.0]"
   ]
  },
  {
   "cell_type": "markdown",
   "metadata": {},
   "source": [
    "What I found very interesting to see in this analysis was there were, in fact, some people that wrote a review after less than 5 minutes of playing! Luckily, the reviews with less than an hour of playtime account for a very small percentage of all the reviews in our dataset. \n",
    "\n",
    "From our calculations above, we see that our highest number of reviews come from users that played for 181 minutes (or roughly 3 hours), which I think is an appropriate amount of playtime to write an accurate or \"more valid\" review that I would take into consideration when I decided whether to buy a game or not. "
   ]
  },
  {
   "cell_type": "code",
   "execution_count": 49,
   "metadata": {},
   "outputs": [
    {
     "data": {
      "text/html": [
       "<div>\n",
       "<style scoped>\n",
       "    .dataframe tbody tr th:only-of-type {\n",
       "        vertical-align: middle;\n",
       "    }\n",
       "\n",
       "    .dataframe tbody tr th {\n",
       "        vertical-align: top;\n",
       "    }\n",
       "\n",
       "    .dataframe thead th {\n",
       "        text-align: right;\n",
       "    }\n",
       "</style>\n",
       "<table border=\"1\" class=\"dataframe\">\n",
       "  <thead>\n",
       "    <tr style=\"text-align: right;\">\n",
       "      <th></th>\n",
       "      <th>11742</th>\n",
       "      <th>57976</th>\n",
       "      <th>64117</th>\n",
       "      <th>14150</th>\n",
       "      <th>45479</th>\n",
       "      <th>12474</th>\n",
       "      <th>42873</th>\n",
       "      <th>11809</th>\n",
       "      <th>118</th>\n",
       "      <th>20666</th>\n",
       "      <th>...</th>\n",
       "      <th>710</th>\n",
       "      <th>27512</th>\n",
       "      <th>50400</th>\n",
       "      <th>724</th>\n",
       "      <th>813</th>\n",
       "      <th>22983</th>\n",
       "      <th>28471</th>\n",
       "      <th>567</th>\n",
       "      <th>61632</th>\n",
       "      <th>615</th>\n",
       "    </tr>\n",
       "  </thead>\n",
       "  <tbody>\n",
       "    <tr>\n",
       "      <th>Play Time in Minutes</th>\n",
       "      <td>1.0</td>\n",
       "      <td>1.0</td>\n",
       "      <td>2.0</td>\n",
       "      <td>2.0</td>\n",
       "      <td>3.0</td>\n",
       "      <td>3.0</td>\n",
       "      <td>4.0</td>\n",
       "      <td>4.0</td>\n",
       "      <td>5.0</td>\n",
       "      <td>5.0</td>\n",
       "      <td>...</td>\n",
       "      <td>116.0</td>\n",
       "      <td>116.0</td>\n",
       "      <td>117.0</td>\n",
       "      <td>117.0</td>\n",
       "      <td>118.0</td>\n",
       "      <td>118.0</td>\n",
       "      <td>119.0</td>\n",
       "      <td>119.0</td>\n",
       "      <td>120.0</td>\n",
       "      <td>120.0</td>\n",
       "    </tr>\n",
       "    <tr>\n",
       "      <th>Number of Users</th>\n",
       "      <td>6.0</td>\n",
       "      <td>1.0</td>\n",
       "      <td>1.0</td>\n",
       "      <td>4.0</td>\n",
       "      <td>1.0</td>\n",
       "      <td>5.0</td>\n",
       "      <td>1.0</td>\n",
       "      <td>5.0</td>\n",
       "      <td>157.0</td>\n",
       "      <td>3.0</td>\n",
       "      <td>...</td>\n",
       "      <td>80.0</td>\n",
       "      <td>2.0</td>\n",
       "      <td>1.0</td>\n",
       "      <td>79.0</td>\n",
       "      <td>74.0</td>\n",
       "      <td>2.0</td>\n",
       "      <td>2.0</td>\n",
       "      <td>91.0</td>\n",
       "      <td>1.0</td>\n",
       "      <td>88.0</td>\n",
       "    </tr>\n",
       "  </tbody>\n",
       "</table>\n",
       "<p>2 rows × 221 columns</p>\n",
       "</div>"
      ],
      "text/plain": [
       "                      11742  57976  64117  14150  45479  12474  42873  11809  \\\n",
       "Play Time in Minutes    1.0    1.0    2.0    2.0    3.0    3.0    4.0    4.0   \n",
       "Number of Users         6.0    1.0    1.0    4.0    1.0    5.0    1.0    5.0   \n",
       "\n",
       "                      118    20666  ...  710    27512  50400  724    813    \\\n",
       "Play Time in Minutes    5.0    5.0  ...  116.0  116.0  117.0  117.0  118.0   \n",
       "Number of Users       157.0    3.0  ...   80.0    2.0    1.0   79.0   74.0   \n",
       "\n",
       "                      22983  28471  567    61632  615    \n",
       "Play Time in Minutes  118.0  119.0  119.0  120.0  120.0  \n",
       "Number of Users         2.0    2.0   91.0    1.0   88.0  \n",
       "\n",
       "[2 rows x 221 columns]"
      ]
     },
     "execution_count": 49,
     "metadata": {},
     "output_type": "execute_result"
    }
   ],
   "source": [
    "data_ps120 = data_ps.head(221)\n",
    "data_pstrans120 = data_ps120.transpose()\n",
    "data_pstrans120"
   ]
  },
  {
   "cell_type": "code",
   "execution_count": 50,
   "metadata": {},
   "outputs": [
    {
     "name": "stdout",
     "output_type": "stream",
     "text": [
      "Sum of data with less than 2hrs of playtime:\n",
      "Play Time in Minutes    13264.0\n",
      "Number of Users         11559.0\n",
      "dtype: float64\n"
     ]
    }
   ],
   "source": [
    "sum_val = data_pstrans120.sum(axis=1)\n",
    "print(\"Sum of data with less than 2hrs of playtime:\")\n",
    "print(sum_val)"
   ]
  },
  {
   "cell_type": "markdown",
   "metadata": {},
   "source": [
    "I personally believe that game reviews with less than an hour of playtime are not very accurate reviews, so it was good to see that those reviews contributed to less than 3% of our data. \n",
    "\n",
    "This data will help us have a better understanding of our research results as it allows us to somewhat \"predict\" what the content of the reviews will like: short playtime might result in short reviews due to lack of in-game experience or more overall gaming experience may result in more longer, critical reviews as they have more games they can compare it to. Although this \"prediction\" may not be accurate, this data is interesting to see the correlation between review content and gaming experience/playtime. "
   ]
  }
 ],
 "metadata": {
  "kernelspec": {
   "display_name": "Python 3",
   "language": "python",
   "name": "python3"
  },
  "language_info": {
   "codemirror_mode": {
    "name": "ipython",
    "version": 3
   },
   "file_extension": ".py",
   "mimetype": "text/x-python",
   "name": "python",
   "nbconvert_exporter": "python",
   "pygments_lexer": "ipython3",
   "version": "3.8.5"
  }
 },
 "nbformat": 4,
 "nbformat_minor": 4
}
