{
 "cells": [
  {
   "cell_type": "code",
   "execution_count": 15,
   "metadata": {},
   "outputs": [],
   "source": [
    "import os\n",
    "import sys\n",
    "import numpy as np\n",
    "import pandas as pd\n",
    "import matplotlib.pylab as plt\n",
    "import seaborn as sns\n",
    "from collections import Counter\n",
    "\n",
    "module_path = os.path.abspath(os.path.join('..'))\n",
    "if module_path not in sys.path:\n",
    "    sys.path.append(module_path)\n",
    "from scripts import project_functions\n",
    "\n",
    "df = project_functions.load_and_process('..\\..\\data\\data_raw\\*.csv')"
   ]
  },
  {
   "cell_type": "markdown",
   "metadata": {},
   "source": [
    "# Comparing word choice to number of review comments\n",
    "\n",
    "An interesting question that arose while conducting our exploratory dataset analysis was whether a reviewer's word choice would garner feedback from other reviewers. Such that, were there specific words that would target or trigger a certain response? Did a negative review get more comments than a positive one?\n",
    "\n",
    "To do this, we compared the review words to the number of review comments. As we have a large dataset, we focused on analyzing the reviews with more than 50 feedback responses. Below is a plot showing the review words that had most comments:"
   ]
  },
  {
   "cell_type": "code",
   "execution_count": 23,
   "metadata": {},
   "outputs": [
    {
     "data": {
      "image/png": "[encoded data removed]",
      "text/plain": [
       "<Figure size 864x432 with 1 Axes>"
      ]
     },
     "metadata": {
      "needs_background": "light"
     },
     "output_type": "display_data"
    }
   ],
   "source": [
    "#Limiting data to only contain Review and Comment Count columns\n",
    "rev_comments = df[['review', 'comment_count']]\n",
    "data = pd.DataFrame({\n",
    "    'Review': rev_comments['review'],\n",
    "    'Comment Count': pd.to_numeric(rev_comments['comment_count'])\n",
    "})\n",
    "\n",
    "#Keeping only the reviews with more than 50 comments\n",
    "over50 = data[data['Comment Count'] > 50]\n",
    "\n",
    "import nltk\n",
    "from nltk.corpus import stopwords\n",
    "from nltk import word_tokenize, pos_tag, pos_tag_sents\n",
    "\n",
    "a = Counter(\" \".join(over50[\"Review\"].str.lower()).split()).most_common()\n",
    "stop_words = set(stopwords.words('english'))\n",
    "\n",
    "#Filtering out meaningless words using NLTK's stop_words list\n",
    "b = [(i[0],i[1]) for i in a if i[0] not in stop_words]\n",
    "\n",
    "#Creating dataframe containing words and their counts\n",
    "word_counts = pd.DataFrame(b, columns=['Word','Count'])\n",
    "\n",
    "#Further filtering to only contain adjectives\n",
    "word_counts['POSTags'] = pos_tag_sents(word_counts['Word'].apply(word_tokenize).tolist())\n",
    "word_counts['POSTags'] = word_counts['POSTags'].astype(str)\n",
    "final = word_counts[word_counts['POSTags'].str.contains(\"JJ\")].head(10)\n",
    "\n",
    "plt.figure(figsize=(12,6))\n",
    "plot = sns.barplot(x=final['Word'], y=final['Count'])\n",
    "plot.set(xlabel='Word', ylabel='Comment Count')\n",
    "plt.show()"
   ]
  },
  {
   "cell_type": "markdown",
   "metadata": {},
   "source": [
    "As we can see, mostly positive word choices would gain more comments. This is interesting to see as one may thing that negative reviews would gain **more** comments due to backlash from other users since we are analyzing the top games in each genre. But perhaps because these are top games, the ratio between positive and negative reviews is heavily unbalanced, thus the negative comments may get buried among all the positive reviews. \n",
    "\n",
    "Something else that we may need to take into consideration was that this analysis was based solely on individual words, which may skew the results of what we are aiming to know: the effect of the *positivity* or *negativity* of the review on comment count. \n",
    "\n",
    "What this means is that our analysis didn't take into the consideration of oxymorons like *amazingly awful, terribly good, etc.* in the reviews, which could affect the answer to our research question as now the meaning of the review has changed. However, based on one of our exploratory data analyses, many of the reviews contained less than 10 characters, indicating most reviews would be straightfoward and concise. Thus, it is safe to assume that not many reviews would contain figures of speech like oxymorons."
   ]
  }
 ],
 "metadata": {
  "kernelspec": {
   "display_name": "Python 3",
   "language": "python",
   "name": "python3"
  },
  "language_info": {
   "codemirror_mode": {
    "name": "ipython",
    "version": 3
   },
   "file_extension": ".py",
   "mimetype": "text/x-python",
   "name": "python",
   "nbconvert_exporter": "python",
   "pygments_lexer": "ipython3",
   "version": "3.8.5"
  }
 },
 "nbformat": 4,
 "nbformat_minor": 4
}
